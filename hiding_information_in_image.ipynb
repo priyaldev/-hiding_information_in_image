{
 "cells": [
  {
   "cell_type": "code",
   "execution_count": 1,
   "id": "bb8abd7a",
   "metadata": {},
   "outputs": [],
   "source": [
    "#importing necessory library\n",
    "import cv2\n",
    "import string\n",
    "import os\n",
    "import numpy as np\n",
    "from Crypto.Cipher import AES\n",
    "from Crypto.Util.Padding import pad, unpad\n",
    "from Crypto.Random import get_random_bytes\n",
    "import hashlib"
   ]
  },
  {
   "cell_type": "code",
   "execution_count": 2,
   "id": "af890c82",
   "metadata": {},
   "outputs": [],
   "source": [
    "#function for deriving key\n"
    "def derive_key(userkey):\n",
    "    return hashlib.sha256(userkey.encode()).digest()[:16]  "
   ]
  },
  {
   "cell_type": "code",
   "execution_count": 3,
   "id": "75851263",
   "metadata": {},
   "outputs": [],
   "source": [
    "Function for encripting the infomation before embedding uning ASE technique\n",
    "def encrypt_message(msg, userkey):\n",
    "    key = derive_key(userkey)\n",
    "    cipher = AES.new(key, AES.MODE_CBC)\n",
    "    ct = cipher.encrypt(pad(msg.encode(), AES.block_size))\n",
    "    return  cipher.iv + ct"
   ]
  },
  {
   "cell_type": "code",
   "execution_count": 4,
   "id": "6ea3a51e",
   "metadata": {},
   "outputs": [],
   "source": [
    "Function for Decriptintion of message after extacting information from image\n",
    "def decrypt_message(cipher_bytes,userkey):\n",
    "    key=derive_key(userkey)\n",
    "    iv=cipher_bytes[:16]\n",
    "    ct=cipher_bytes[16:]\n",
    "    cipher=AES.new(key , AES.MODE_CBC,iv)\n",
    "    return unpad(cipher.decrypt(ct),AES.block_size).decode()\n",
    "    "
   ]
  },
  {
   "cell_type": "code",
   "execution_count": 5,
   "id": "ef5c72c3",
   "metadata": {},
   "outputs": [],
   "source": [
    "creating dict for mapping ascii value in decimal or vice versa\n",
    "d={}\n",
    "c={}\n",
    "for i in range(256):\n",
    "    d[chr(i)] = i\n",
    "    c[i] = chr(i)"
   ]
  },
  {
   "cell_type": "code",
   "execution_count": 6,
   "id": "8896648d",
   "metadata": {},
   "outputs": [
    {
     "name": "stdout",
     "output_type": "stream",
     "text": [
      "[[[ 26 185 115]\n",
      "  [ 23 182 112]\n",
      "  [ 23 178 111]\n",
      "  ...\n",
      "  [ 54 201 111]\n",
      "  [ 56 205 115]\n",
      "  [ 56 205 115]]\n",
      "\n",
      " [[ 26 184 114]\n",
      "  [ 23 181 111]\n",
      "  [ 21 176 109]\n",
      "  ...\n",
      "  [ 52 199 109]\n",
      "  [ 54 203 113]\n",
      "  [ 54 203 113]]\n",
      "\n",
      " [[ 30 183 114]\n",
      "  [ 26 179 110]\n",
      "  [ 23 173 107]\n",
      "  ...\n",
      "  [ 50 197 107]\n",
      "  [ 52 201 111]\n",
      "  [ 52 201 111]]\n",
      "\n",
      " ...\n",
      "\n",
      " [[ 43 107  41]\n",
      "  [ 37  97  36]\n",
      "  [ 29  86  31]\n",
      "  ...\n",
      "  [  5 222 248]\n",
      "  [ 18 226 254]\n",
      "  [ 20 226 254]]\n",
      "\n",
      " [[ 66 130  65]\n",
      "  [ 43 103  43]\n",
      "  [ 39  95  42]\n",
      "  ...\n",
      "  [  8 225 250]\n",
      "  [ 22 231 255]\n",
      "  [ 24 231 255]]\n",
      "\n",
      " [[ 62 126  61]\n",
      "  [ 41 101  41]\n",
      "  [ 54 110  59]\n",
      "  ...\n",
      "  [ 11 228 253]\n",
      "  [ 21 231 255]\n",
      "  [ 23 230 255]]]\n"
     ]
    }
   ],
   "source": [
    "#loding the original image\n",
    "x=cv2.imread(r\"OIP.jpeg\")\n",
    "print(x)"
   ]
  },
  {
   "cell_type": "code",
   "execution_count": 7,
   "id": "f4188155",
   "metadata": {},
   "outputs": [
    {
     "name": "stdout",
     "output_type": "stream",
     "text": [
      "32\n"
     ]
    }
   ],
   "source": [
    "#encripting the message and key\n",
    "key='123'\n",
    "text='secrat message'\n",
    "encrypted_text = encrypt_message(text, key)\n",
    "l=len(encrypted_text)\n",
    "print(l)"
   ]
  },
  {
   "cell_type": "code",
   "execution_count": 8,
   "id": "7f5fdaf7",
   "metadata": {},
   "outputs": [],
   "source": [
    "#code for embadding the encripted message in least significant bit\n ",
    "\n",
    "n=0\n",
    "m=0\n",
    "z=0\n",
    "kl=0\n",
    "for i in range(l):\n",
    "    char_val=encrypted_text[i]^ d[key[kl]]\n",
    "    for bit_pos in range(8):\n",
    "        bit_val = (char_val >> (7-bit_pos)) & 1\n",
    "        org_val = x[n,m,z]\n",
    "        # Set the least significant bit\n",
    "        x[n, m, z] = (org_val & ~np.uint8(1)) | bit_val\n",
    "        #print(f\"Embeding bit of{bit_pos} of character '{text[i]}' (value {char_val}) at position ({n}, {m}, {z})\")\n",
    "        z =(z+1) % 3\n",
    "        if z == 0:\n",
    "            m += 1\n",
    "            if m == x.shape[1]:\n",
    "                m = 0\n",
    "                n += 1\n",
    "    kl = (kl + 1) % len(key)"
   ]
  },
  {
   "cell_type": "code",
   "execution_count": 9,
   "id": "0e6ac842",
   "metadata": {},
   "outputs": [
    {
     "name": "stdout",
     "output_type": "stream",
     "text": [
      "success\n"
     ]
    }
   ],
   "source": [
    "#write the encripted image in a jpg formate\n",
    "cv2.imwrite(\"encriptedimage.jpeg\",x)\n",
    "os.startfile(\"encriptedimage.jpeg\")\n",
    "print(\"success\")"
   ]
  },
  {
   "cell_type": "code",
   "execution_count": 10,
   "id": "f54718b3",
   "metadata": {},
   "outputs": [
    {
     "name": "stdout",
     "output_type": "stream",
     "text": [
      "Decrypted text: secrat message\n"
     ]
    }
   ],
   "source": [
    "# Extract the encrypted bytes from the image using bit extraction\n",
    "n, m, z = 0, 0, 0\n",
    "kl = 0\n",
    "key1 = '123'\n",
    "extracted_bytes = bytearray()\n",
    "\n",
    "if key == key1:\n",
    "    for i in range(l):\n",
    "        val = 0\n",
    "        for bit_pos in range(8):\n",
    "            bit = x[n, m, z] & 1\n",
    "            val = (val << 1) | bit\n",
    "\n",
    "            z = (z + 1) % 3\n",
    "            if z == 0:\n",
    "                m += 1\n",
    "                if m == x.shape[1]:\n",
    "                    m = 0\n",
    "                    n += 1\n",
    "        extracted_bytes.append(val ^ d[key[kl]])\n",
    "        kl = (kl + 1) % len(key)\n",
    "\n",
    "    try:\n",
    "        decrypted = decrypt_message(bytes(extracted_bytes), key)\n",
    "        print(\"Decrypted text:\", decrypted)\n",
    "    except Exception as e:\n",
    "        print(\"Decryption failed:\", e)\n",
    "else:\n",
    "    print(\"key mismatch\")"
   ]
  }
 ],
 "metadata": {
  "kernelspec": {
   "display_name": "Python 3",
   "language": "python",
   "name": "python3"
  },
  "language_info": {
   "codemirror_mode": {
    "name": "ipython",
    "version": 3
   },
   "file_extension": ".py",
   "mimetype": "text/x-python",
   "name": "python",
   "nbconvert_exporter": "python",
   "pygments_lexer": "ipython3",
   "version": "3.13.0"
  }
 },
 "nbformat": 4,
 "nbformat_minor": 5
}
